{
 "cells": [
  {
   "cell_type": "code",
   "execution_count": 31,
   "metadata": {},
   "outputs": [
    {
     "name": "stdout",
     "output_type": "stream",
     "text": [
      "Tweets saved to vitalik_tweets.csv\n"
     ]
    }
   ],
   "source": [
    "from selenium import webdriver\n",
    "from selenium.webdriver.common.by import By\n",
    "import time\n",
    "import csv\n",
    "\n",
    "# Set up the WebDriver (make sure to specify the correct path to your WebDriver)\n",
    "driver = webdriver.Chrome()  # or webdriver.Firefox() for Firefox\n",
    "\n",
    "# Navigate to the Twitter account\n",
    "driver.get(\"https://x.com/vitalikbuterin\")\n",
    "\n",
    "# Wait for the page to load\n",
    "time.sleep(5)  # Adjust sleep time as necessary\n",
    "\n",
    "# Scroll to load more tweets\n",
    "scroll_pause_time = 2\n",
    "last_height = driver.execute_script(\"return document.body.scrollHeight\")\n",
    "\n",
    "tweets = []\n",
    "\n",
    "while True:\n",
    "    # Find all tweet elements\n",
    "    tweet_elements = driver.find_elements(By.XPATH, '//article[@role=\"article\"]')\n",
    "    \n",
    "    for tweet in tweet_elements:\n",
    "        # Extract tweet text\n",
    "        tweet_text = tweet.text\n",
    "        tweets.append(tweet_text)\n",
    "\n",
    "    # Scroll down to load more tweets\n",
    "    driver.execute_script(\"window.scrollTo(0, document.body.scrollHeight);\")\n",
    "    time.sleep(scroll_pause_time)\n",
    "\n",
    "    # Calculate new scroll height and compare with last height\n",
    "    new_height = driver.execute_script(\"return document.body.scrollHeight\")\n",
    "    if new_height == last_height:\n",
    "        break\n",
    "    last_height = new_height\n",
    "\n",
    "# Save tweets to a CSV file\n",
    "with open('vitalik_tweets.csv', mode='w', newline='', encoding='utf-8') as file:\n",
    "    writer = csv.writer(file)\n",
    "    writer.writerow(['Date', 'Tweet', 'Likes', 'Retweets', 'Quote Tweets'])  # Header\n",
    "\n",
    "    for tweet in tweets:\n",
    "        # Split the tweet text into lines\n",
    "        tweet_parts = tweet.split('\\n')\n",
    "        if len(tweet_parts) >= 3:\n",
    "            date = tweet_parts[1]  # Assuming the date is always on the second line\n",
    "            tweet_text = tweet_parts[2]  # Assuming the tweet text is always on the third line\n",
    "            # Extract likes, retweets, etc. from the last line if present\n",
    "            engagement = tweet_parts[-1] if len(tweet_parts) > 3 else ''\n",
    "            likes, retweets, quote_tweets = '', '', ''\n",
    "            if engagement:\n",
    "                engagement_parts = engagement.split(' ')\n",
    "                if len(engagement_parts) >= 3:\n",
    "                    likes = engagement_parts[0]\n",
    "                    retweets = engagement_parts[1]\n",
    "                    quote_tweets = engagement_parts[2]\n",
    "            writer.writerow([date, tweet_text, likes, retweets, quote_tweets])\n",
    "\n",
    "print(\"Tweets saved to vitalik_tweets.csv\")\n",
    "\n",
    "# Close the WebDriver\n",
    "driver.quit()"
   ]
  }
 ],
 "metadata": {
  "kernelspec": {
   "display_name": "Python 3",
   "language": "python",
   "name": "python3"
  },
  "language_info": {
   "codemirror_mode": {
    "name": "ipython",
    "version": 3
   },
   "file_extension": ".py",
   "mimetype": "text/x-python",
   "name": "python",
   "nbconvert_exporter": "python",
   "pygments_lexer": "ipython3",
   "version": "3.13.0"
  }
 },
 "nbformat": 4,
 "nbformat_minor": 2
}
